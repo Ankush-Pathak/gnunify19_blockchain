{
 "cells": [
  {
   "cell_type": "markdown",
   "metadata": {
    "slideshow": {
     "slide_type": "slide"
    }
   },
   "source": [
    "<img src=\"./images/ethereum_logo.png\" style=\"float: right;\" alt=\"Eth logo\" width=\"300\"/>\n",
    "<br><br>\n",
    "\n",
    "#    Into the Ethereum Blockchain\n",
    "###        _-the-future-is- -decentralized_\n",
    "\n",
    "<br>Abdul Wasay | Ankush Pathak\n",
    "<pre><br><sub><sup><i>gnuNify 2019 | 15/02/2019</i></sup></sub></pre>"
   ]
  },
  {
   "cell_type": "markdown",
   "metadata": {
    "slideshow": {
     "slide_type": "subslide"
    }
   },
   "source": [
    "<img src=\"./images/dilbert_staring.jpg\" style=\"float: right;\" alt=\"dlt_tree\" width=\"500\"/>\n",
    "<br>\n",
    "\n",
    "## What is Blockchain anyway?\n",
    "_Imagine your own little community where everyone keeps a copy of all transactions_\n"
   ]
  },
  {
   "cell_type": "markdown",
   "metadata": {
    "slideshow": {
     "slide_type": "skip"
    }
   },
   "source": [
    "## Blockchain - The next wave of computing\n",
    "\n",
    "* We started from __Mainframes__, then moved to __dumb terminals__, then __desktop systems__ and finally culminated into __cloud computing (_back to dumb terminals?_)__.\n",
    "* There is too much trust that is put 3rd party data storage providers.\n",
    "* We stand on the brink of the _next wave of computing_ that addresses these trust issues and pushes the boundaries of existing technology.\n",
    "\n"
   ]
  },
  {
   "cell_type": "markdown",
   "metadata": {
    "slideshow": {
     "slide_type": "subslide"
    }
   },
   "source": [
    "### DLT to blockchain\n",
    "* __Distributed Ledger Technology__ is what makes this next wave possible.\n",
    "* Add to DLT the timestamping of transactions, Peer to Peer (P2P) networks, cryptography, shared computational power alongwith new consensus algorithms and you get the __blockchain__\n",
    "\n",
    "<center><img src=\"./images/dlt_tree.jpeg\" alt=\"dlt_tree\" width=\"600\"/></center>\n"
   ]
  },
  {
   "cell_type": "markdown",
   "metadata": {
    "slideshow": {
     "slide_type": "slide"
    }
   },
   "source": [
    "## Building blocks of the blockchain\n",
    "* Blockchain is a specific form or subset of distributed ledger technologies, which constructs a chronological chain of blocks, hence the name 'block-chain'. A block refers to a set of transactions that are bundled together and added to the chain at the same time.\n",
    "* It is an immutable record of all transactions in the network, from the very first (or genesis) block.\n",
    "<center><img src=\"./images/blockchain_simple.png\" alt=\"blockchain simple diagram\" width=\"600\"></center>\n",
    "* The most crucial parts of the blockchain are:\n",
    "    * __Hashing__\n",
    "    * __Merkle tree__\n",
    "    * __Consensus algorithms__\n",
    "\n"
   ]
  },
  {
   "cell_type": "markdown",
   "metadata": {
    "slideshow": {
     "slide_type": "subslide"
    }
   },
   "source": [
    "### Hashing\n",
    "* The values returned by a hash function are called __hash values, hash codes, digests, or simply hashes__. \n",
    "* A __hash function__ is any function that can be used to map data of arbitrary size to data of a fixed size. \n",
    "<center><img src=\"./images/hashing.png\" alt=\"Hashing\" width=\"600\"></center>\n"
   ]
  },
  {
   "cell_type": "markdown",
   "metadata": {
    "slideshow": {
     "slide_type": "subslide"
    }
   },
   "source": [
    "### Merkle Tree\n",
    "* An __anti-tamper mechanism__.\n",
    "* It is a data structure that is used to store hashes of the individual data in large datasets in a way to make the verification of the dataset efficient.\n",
    "* Summarizes all the transactions in a block, producing an overall digital fingerprint of the entire set of transactions, providing a very efficient process to verify whether a transaction is included in a block.\n",
    "\n",
    "<center><img src=\"./images/merkle_tree_structure.png\" alt=\"Merkle Tree\" width=\"800\"></center>"
   ]
  },
  {
   "cell_type": "markdown",
   "metadata": {
    "slideshow": {
     "slide_type": "subslide"
    }
   },
   "source": [
    "### Consensus algorithms\n",
    "* Consensus in the network refers to the process of achieving agreement among the network participants as to the correct state of data on the system.\n",
    "* It is simply an agreement among the participants whether a change in the blockchain is valid or not.\n",
    "* Some common consensus algorithms are:\n",
    "    * Proof of Work(PoW)\n",
    "    * Proof of Stake (PoS)\n",
    "    * Proof of Elapsed Time (PoET)\n",
    "    * Simplified Byzantine Fault Tolerance (SBFT)\n",
    "    * Proof of Authority (PoA)\n",
    "    and the list goes on...\n",
    "\n"
   ]
  },
  {
   "cell_type": "markdown",
   "metadata": {
    "slideshow": {
     "slide_type": "subslide"
    }
   },
   "source": [
    "### Proof of Work (PoW) [ _May the fittest win_ ]\n",
    "\n",
    "* The Proof of Work consensus algorithm involves solving a computational challenging puzzle in order to create new blocks in the Bitcoin blockchain. Colloquially, the process is known as 'mining', and the nodes in the network that engage in mining are known as 'miners'.\n",
    "\n",
    "<center><img src=\"./images/pow_flow.png\" alt=\"Proof of Work\" width=\"800\"></center>"
   ]
  },
  {
   "cell_type": "markdown",
   "metadata": {
    "slideshow": {
     "slide_type": "subslide"
    }
   },
   "source": [
    "### Proof of Stake (PoS) [ _Gamble your way_ ]\n",
    "* Proof of Stake (PoS) chooses the validator to mine the next block on the basis of its economic stake in the network (amount of coins a validator owns) and the age of that stake. \n",
    "* Designed for permissioned blockchain networks.\n",
    "* Is an abstract concept, specifically implemented in various forms, some of which are _Proof of Deposit_ and _Proof of Burn_.\n"
   ]
  },
  {
   "cell_type": "markdown",
   "metadata": {
    "slideshow": {
     "slide_type": "slide"
    }
   },
   "source": [
    "## Ethereum\n",
    "* Founded by Vitalik Buterin.\n",
    "* Intended to be a robust platform allowing developers to build blockchain applications or dapps .\n",
    "* White paper titled __“ETHEREUM: A SECURE DECENTRALISED GENERALISED TRANSACTION LEDGER” released in 2013__.\n",
    "* Broke into the mainstream in early 2017 when the price of Ether jumped by 1000 percent over the course of a few months.\n"
   ]
  },
  {
   "cell_type": "markdown",
   "metadata": {
    "slideshow": {
     "slide_type": "subslide"
    }
   },
   "source": [
    "### Consensus in Ethereum\n",
    "<center><img src=\"./images/consensus_ethereum.png\" alt=\"Consensus in Ethereum\" width=\"1000\"></center>"
   ]
  },
  {
   "cell_type": "markdown",
   "metadata": {
    "slideshow": {
     "slide_type": "subslide"
    }
   },
   "source": [
    "### Why Ethereum over Bitcoin\n",
    "* __Addresses limitations of the scripting language implemented in Bitcoin__\n",
    "    * _Lack of Turing-completeness_: loops for example are missing.\n",
    "    * _Value-blindness_: no fine grained control over the amount that can be withdrawn.\n",
    "    * _Lack of state_: binary behavior of tokens; inability to build multi stage contracts or scripts.\n",
    "    * _Blockchain blindness_: blind to nonce, timestamp and previous block hash.\n"
   ]
  },
  {
   "cell_type": "markdown",
   "metadata": {
    "slideshow": {
     "slide_type": "subslide"
    }
   },
   "source": [
    "\n",
    "### Smart contracts\n",
    "* They define how and what kind of operations will be allowed on the ledger.\n",
    "* Can be thought of as simple computer programs that execute predefined actions when certain conditions within the system are met.\n"
   ]
  },
  {
   "cell_type": "markdown",
   "metadata": {
    "slideshow": {
     "slide_type": "subslide"
    }
   },
   "source": [
    "<center><img src=\"./images/smart_contract.png\" alt=\"smart_contract\" width=\"700\"/></center>"
   ]
  },
  {
   "cell_type": "markdown",
   "metadata": {
    "slideshow": {
     "slide_type": "subslide"
    }
   },
   "source": [
    "### Solidity\n",
    "* A statically typed, contract based high level programming language. All Ethereum smart contracts are written in Solidity.\n",
    "\n",
    "### Ethereum Virtual Machine\n",
    "* Designed to serve as a runtime environment for smart contracts based on Ethereum. Every node in the network runs their own implementation of the EVM.\n"
   ]
  },
  {
   "cell_type": "markdown",
   "metadata": {
    "slideshow": {
     "slide_type": "subslide"
    }
   },
   "source": [
    "### Gas\n",
    "* Gas is the metering unit for the Ethereum “World Computer”\n",
    "* It is the execution fee paid for every operation processed by Ethereum nodes.\n",
    "* Every operation has a Gas cost (Eg: ADD: 3 Gas, MUL: 5 Gas)\n",
    "* The fee to be paid is measured by Gas price. The formula is:\n",
    "_(startGas - remainingGas) x gas price_\n",
    "\n"
   ]
  },
  {
   "cell_type": "markdown",
   "metadata": {
    "slideshow": {
     "slide_type": "subslide"
    }
   },
   "source": [
    "Operations | Gas consumed by operation | Gas remaining\n",
    "-----------|---------------------------|---------------\n",
    "Start of transaction | 0 | 150\n",
    "STORE 31 | 45 | 105\n",
    "ADD 2 numbers | 10 | 95\n",
    "STORE sum | 45 | 50\n",
    "End of transaction | The sum is stored and written to the blockchain\n",
    "\n",
    "* Assuming Gas price is set to 0.02µETH\n",
    "    *The originator pays the miner a fee\n",
    "         = (150 - 50) × 0.02µETH \n",
    "         = 2µETH\n",
    "         = 0.000002 ETH."
   ]
  },
  {
   "cell_type": "markdown",
   "metadata": {
    "slideshow": {
     "slide_type": "slide"
    }
   },
   "source": [
    "# Hands on "
   ]
  },
  {
   "cell_type": "markdown",
   "metadata": {
    "slideshow": {
     "slide_type": "subslide"
    }
   },
   "source": [
    "### That'll be all folks :)\n",
    "<center><img src=\"./images/blockchain_explained.png\" alt=\"Dilbert_comic\" width=\"900\"/></center>"
   ]
  },
  {
   "cell_type": "markdown",
   "metadata": {
    "slideshow": {
     "slide_type": "slide"
    }
   },
   "source": [
    "# We love long discussions on seemingly random topics, let's talk \n",
    "\n",
    "* __Abdul Wasay__\n",
    "    * wasaya@acm.org\n",
    "    * @KnightTuring\n",
    "    * knightturing.github.io\n",
    "\n",
    "* __Ankush Pathak__\n",
    "    * ankushvpathak@acm.org\n",
    "    * @AnkushPathak19\n",
    "    \n",
    "    ## Did you find this session informative and fun? or did we put you to sleep :(  http://bit.ly/ethfeedback"
   ]
  }
 ],
 "metadata": {
  "celltoolbar": "Slideshow",
  "kernelspec": {
   "display_name": "Python 3",
   "language": "python",
   "name": "python3"
  },
  "language_info": {
   "codemirror_mode": {
    "name": "ipython",
    "version": 3
   },
   "file_extension": ".py",
   "mimetype": "text/x-python",
   "name": "python",
   "nbconvert_exporter": "python",
   "pygments_lexer": "ipython3",
   "version": "3.5.2"
  }
 },
 "nbformat": 4,
 "nbformat_minor": 2
}
